{
 "cells": [
  {
   "cell_type": "markdown",
   "metadata": {
    "slideshow": {
     "slide_type": "slide"
    }
   },
   "source": [
    "# flavio tutorial\n",
    "\n",
    "## Part 3: Wilson coefficients"
   ]
  },
  {
   "cell_type": "markdown",
   "metadata": {
    "slideshow": {
     "slide_type": "slide"
    }
   },
   "source": [
    "### Assumptions about new physics (NP) in flavio\n",
    "\n",
    "- NP enters observables via local interactions (operators) among known particles\n",
    "- NP only affects *predictions*, not *measurements*"
   ]
  },
  {
   "cell_type": "markdown",
   "metadata": {
    "slideshow": {
     "slide_type": "subslide"
    }
   },
   "source": [
    "### Operators & Wilson coefficients\n",
    "\n",
    "- The *Wilson coefficients* are the couplings strengths of the local operators\n",
    "- NP is dealt with in flavio by providing the numerical values of these Wilson coefficients\n",
    "- In flavour physics we usually deal with Wilson coefficients in the weak effective theory (WET) below the electroweak scale"
   ]
  },
  {
   "cell_type": "markdown",
   "metadata": {
    "slideshow": {
     "slide_type": "subslide"
    }
   },
   "source": [
    "### Hierarchy of effective field theories (EFTs)\n",
    "\n",
    "![](img/EFT-hierarchy-WCxf.svg)"
   ]
  },
  {
   "cell_type": "markdown",
   "metadata": {
    "collapsed": true,
    "slideshow": {
     "slide_type": "slide"
    }
   },
   "source": [
    "## Wilson coefficient exchange format (WCxf)\n",
    "\n",
    "Before discussing how to specify Wilson coefficients in flavio, let's have look at a **new** data format defined in this write-up:\n",
    "\n",
    "> \"WCxf: an exchange format for Wilson coefficients beyond the Standard Model\"  \n",
    "> J. Aebischer et al.  \n",
    "> [arXiv:1712.05298](https://arxiv.org/abs/1712.05298)\n",
    "\n",
    "<https://wcxf.github.io>"
   ]
  },
  {
   "cell_type": "markdown",
   "metadata": {
    "slideshow": {
     "slide_type": "subslide"
    }
   },
   "source": [
    "### WCxf: motivation\n",
    "\n",
    "- WCxf allows to unambiguously define EFTs and bases of Wilson coefficients by depositing YAML definition files in a public repository\n",
    "- This allows codes like flavio to work with different bases, conventions, and even EFTs\n",
    "- flavio defines its own WCxf basis for WET, WET-4, and WET-3\n",
    "\n",
    "See <https://wcxf.github.io/bases.html>"
   ]
  },
  {
   "cell_type": "markdown",
   "metadata": {
    "slideshow": {
     "slide_type": "subslide"
    }
   },
   "source": [
    "### Basis facts about WCs in WCxf and flavio\n",
    "\n",
    "- Wilson coefficients are always numbers (not matrices)\n",
    "- can be real or complex depending on operator\n",
    "- Wilson coefficients refer to **NP contributions only**, i.e. vanish in the SM\n",
    "\n",
    "Example: `C9_bsmumu = -1` means that $C_9=C_9^\\text{SM} - 1$\n",
    "\n",
    "- Dimensionful coefficients are in appropriate powers of GeV"
   ]
  },
  {
   "cell_type": "markdown",
   "metadata": {
    "slideshow": {
     "slide_type": "slide"
    }
   },
   "source": [
    "## `WilsonCoefficients` class"
   ]
  },
  {
   "cell_type": "code",
   "execution_count": null,
   "metadata": {
    "scrolled": true
   },
   "outputs": [],
   "source": [
    "import flavio\n",
    "wc = flavio.WilsonCoefficients()\n",
    "wc.set_initial({'C9_bsmumu': -1, 'CVLR_bsbs': 1e-6}, scale=160)"
   ]
  },
  {
   "cell_type": "code",
   "execution_count": null,
   "metadata": {
    "scrolled": true,
    "slideshow": {
     "slide_type": "subslide"
    }
   },
   "outputs": [],
   "source": [
    "wc"
   ]
  },
  {
   "cell_type": "code",
   "execution_count": null,
   "metadata": {
    "scrolled": true,
    "slideshow": {
     "slide_type": "subslide"
    }
   },
   "outputs": [],
   "source": [
    "wc.get_initial_wcxf"
   ]
  },
  {
   "cell_type": "code",
   "execution_count": null,
   "metadata": {
    "scrolled": true,
    "slideshow": {
     "slide_type": "subslide"
    }
   },
   "outputs": [],
   "source": [
    "wc.get_wc(sector='sbsb', scale=4.2, par=None)"
   ]
  },
  {
   "cell_type": "markdown",
   "metadata": {
    "slideshow": {
     "slide_type": "subslide"
    }
   },
   "source": [
    "### Comment on the renormalization group running\n",
    "\n",
    "The RG evolution was completely rewritten in flavio v0.27 and is now based on the standalone package [`wetrunner`](https://github.com/DavidMStraub/python-wetrunner) which is based on [1704.06639](https://arxiv.org/abs/1704.06639) (see also [1704.04504](https://arxiv.org/abs/1704.04504))"
   ]
  },
  {
   "cell_type": "markdown",
   "metadata": {
    "slideshow": {
     "slide_type": "slide"
    }
   },
   "source": [
    "## Using SMEFT\n",
    "\n",
    "The WCxf Python package allows to automatically match SMEFT Wilson coefficients to the WET in the flavio basis.\n",
    "\n",
    "Example: $O_{qq}^{(1),  2323} = \\left( \\bar q_2 \\gamma_\\mu q_3 \\right) \\left( \\bar q_2 \\gamma^\\mu q_3 \\right)$"
   ]
  },
  {
   "cell_type": "code",
   "execution_count": null,
   "metadata": {
    "scrolled": true
   },
   "outputs": [],
   "source": [
    "import wcxf\n",
    "wcxf_smeft = wcxf.WC(eft='SMEFT', basis='Warsaw', scale=160,\n",
    "                   values={'qq1_2323': 1e-6})\n",
    "wcxf_flavio = wcxf_smeft.match('WET', 'flavio')\n",
    "wc_flavio = flavio.WilsonCoefficients()\n",
    "wc_flavio.set_initial_wcxf(wcxf_flavio)"
   ]
  },
  {
   "cell_type": "code",
   "execution_count": null,
   "metadata": {
    "scrolled": true,
    "slideshow": {
     "slide_type": "subslide"
    }
   },
   "outputs": [],
   "source": [
    "wcxf_smeft"
   ]
  },
  {
   "cell_type": "code",
   "execution_count": null,
   "metadata": {
    "scrolled": true,
    "slideshow": {
     "slide_type": "subslide"
    }
   },
   "outputs": [],
   "source": [
    "wc_flavio"
   ]
  },
  {
   "cell_type": "markdown",
   "metadata": {
    "slideshow": {
     "slide_type": "slide"
    }
   },
   "source": [
    "## NP predictions\n",
    "\n",
    "Having defined a Wilson Coefficient instance, predictions can be computed in the presence of NP.\n",
    "\n",
    "Example: $R_K=\\text{BR}(B\\to K\\mu\\mu)/\\text{BR}(B\\to Kee)$"
   ]
  },
  {
   "cell_type": "code",
   "execution_count": null,
   "metadata": {
    "scrolled": true
   },
   "outputs": [],
   "source": [
    "flavio.sm_prediction('<Rmue>(B+->Kll)', q2min=1, q2max=6)"
   ]
  },
  {
   "cell_type": "code",
   "execution_count": null,
   "metadata": {
    "scrolled": true,
    "slideshow": {
     "slide_type": ""
    }
   },
   "outputs": [],
   "source": [
    "wc_np = flavio.WilsonCoefficients()\n",
    "wc_np.set_initial({'C9_bsmumu': -1.2}, scale=4.2)\n",
    "flavio.np_prediction('<Rmue>(B+->Kll)', q2min=1, q2max=6, wc_obj=wc_np)"
   ]
  },
  {
   "cell_type": "markdown",
   "metadata": {
    "slideshow": {
     "slide_type": "subslide"
    }
   },
   "source": [
    "### Impact of NP on uncertatinties\n",
    "\n",
    "In $R_K$, form factor uncertainties cancel out exactly in the SM, but not in the presence of NP in numerator *or* denominator *only*"
   ]
  },
  {
   "cell_type": "code",
   "execution_count": null,
   "metadata": {
    "scrolled": true
   },
   "outputs": [],
   "source": [
    "flavio.sm_uncertainty('<Rmue>(B+->Kll)', q2min=1, q2max=6)"
   ]
  },
  {
   "cell_type": "code",
   "execution_count": null,
   "metadata": {
    "scrolled": true
   },
   "outputs": [],
   "source": [
    "flavio.np_uncertainty('<Rmue>(B+->Kll)', q2min=1, q2max=6, wc_obj=wc_np)"
   ]
  },
  {
   "cell_type": "markdown",
   "metadata": {
    "slideshow": {
     "slide_type": "slide"
    }
   },
   "source": [
    "## Interfacing with other codes\n",
    "\n",
    "- In flavio, NP always enters through Wilson coefficients of local operators\n",
    "- To investigate dynamical NP *models*, Wilson coefficienst can be computed \"by hand\" or with a number of public codes\n",
    "- Some codes already (or will soon) support WCxf, e.g.: `SARAH`/`FlavorKit`, `SPheno`, `FormFlavor`"
   ]
  },
  {
   "cell_type": "markdown",
   "metadata": {
    "slideshow": {
     "slide_type": "subslide"
    }
   },
   "source": [
    "## Example: importing a WCxf file"
   ]
  },
  {
   "cell_type": "code",
   "execution_count": null,
   "metadata": {
    "scrolled": true
   },
   "outputs": [],
   "source": [
    "import wcxf\n",
    "\n",
    "\n",
    "with open('files/wcxf-flavio-example.yml', 'r') as f:\n",
    "    wc_w = wcxf.WC.load(f)\n",
    "    \n",
    "wc_f = flavio.WilsonCoefficients()\n",
    "wc_f.set_initial_wcxf(wc_w)\n",
    "wc_f"
   ]
  },
  {
   "cell_type": "markdown",
   "metadata": {
    "slideshow": {
     "slide_type": "subslide"
    }
   },
   "source": [
    "### Pre-WCxf interface to `SARAH`/`FlavorKit`, `SPheno`\n",
    "\n",
    "- Based on [FLHA]()\n",
    "- as of flavio v0.27, still recommended as WCxf interface is not tested sufficiently"
   ]
  },
  {
   "cell_type": "markdown",
   "metadata": {
    "slideshow": {
     "slide_type": "subslide"
    }
   },
   "source": [
    "Example output file:"
   ]
  },
  {
   "cell_type": "code",
   "execution_count": null,
   "metadata": {
    "scrolled": true
   },
   "outputs": [],
   "source": [
    "! cat 'SPheno.spc.MSSM'"
   ]
  },
  {
   "cell_type": "code",
   "execution_count": null,
   "metadata": {
    "scrolled": true,
    "slideshow": {
     "slide_type": "subslide"
    }
   },
   "outputs": [],
   "source": [
    "import flavio\n",
    "from flavio.io import flha\n",
    "\n",
    "my_wc = flha.read_wilson('files/SPheno.spc.MSSM')"
   ]
  },
  {
   "cell_type": "code",
   "execution_count": null,
   "metadata": {
    "scrolled": true,
    "slideshow": {
     "slide_type": "subslide"
    }
   },
   "outputs": [],
   "source": [
    "my_wc"
   ]
  },
  {
   "cell_type": "code",
   "execution_count": null,
   "metadata": {
    "scrolled": true,
    "slideshow": {
     "slide_type": "subslide"
    }
   },
   "outputs": [],
   "source": [
    "1e4 * flavio.sm_prediction('BR(B->Xsgamma)')"
   ]
  },
  {
   "cell_type": "code",
   "execution_count": null,
   "metadata": {
    "scrolled": true
   },
   "outputs": [],
   "source": [
    "1e4 * flavio.np_prediction('BR(B->Xsgamma)', wc_obj=my_wc)"
   ]
  },
  {
   "cell_type": "markdown",
   "metadata": {
    "slideshow": {
     "slide_type": "slide"
    }
   },
   "source": [
    "### Problems:\n",
    "\n",
    "- add the binned prediction in the presence of new physics to your $P_5'$ plot\n",
    "- Find points in WET coefficient space that explain the current anomalies in $B$ physics (only looking at central values)\n",
    "\n",
    "Observable | a.k.a. | SM | Experiment\n",
    "-------------|---|---------\n",
    "`<Rmue>(B+->Kll), q2min=1, q2max=6` | $R_K$ | 1.0 | 0.745\n",
    "`<Rmue>(B+->K*ll), q2min=0.045, q2max=1.1`| $R_{K^*}^\\text{low}$ | 0.93 | 0.66\n",
    "`<Rmue>(B0->K*ll), q2min=1.1, q2max=6`| $R_{K^*}^\\text{interm.}$ | 1.0 | 0.69\n",
    "`Rtaul(B->Dlnu)`| $R_D$ | 0.28 | 0.41\n",
    "`Rtaul(B->D*lnu)` | $R_{D^*}$ | 0.25 | 0.30"
   ]
  },
  {
   "cell_type": "markdown",
   "metadata": {
    "slideshow": {
     "slide_type": "slide"
    }
   },
   "source": [
    "Next: [Fits](4 Fits.ipynb)"
   ]
  },
  {
   "cell_type": "code",
   "execution_count": null,
   "metadata": {
    "scrolled": true,
    "slideshow": {
     "slide_type": "slide"
    }
   },
   "outputs": [],
   "source": []
  }
 ],
 "metadata": {
  "celltoolbar": "Slideshow",
  "kernelspec": {
   "display_name": "Python 3",
   "language": "python",
   "name": "python3"
  },
  "language_info": {
   "codemirror_mode": {
    "name": "ipython",
    "version": 3
   },
   "file_extension": ".py",
   "mimetype": "text/x-python",
   "name": "python",
   "nbconvert_exporter": "python",
   "pygments_lexer": "ipython3",
   "version": "3.6.3"
  },
  "livereveal": {
   "autolaunch": true,
   "scroll": true
  }
 },
 "nbformat": 4,
 "nbformat_minor": 2
}
