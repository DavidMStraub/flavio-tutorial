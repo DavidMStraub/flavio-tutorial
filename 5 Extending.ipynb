{
 "cells": [
  {
   "cell_type": "markdown",
   "metadata": {},
   "source": [
    "# flavio tutorial\n",
    "\n",
    "## Part 5: Extending flavio"
   ]
  },
  {
   "cell_type": "markdown",
   "metadata": {
    "slideshow": {
     "slide_type": "slide"
    }
   },
   "source": [
    "### Adding an observable: photon polarization in $B\\to K\\pi\\pi\\gamma$\n",
    "\n",
    "$$\\lambda_\\gamma = \\frac{|G_L|^2 - |G_R|^2}{|G_L|^2 + |G_R|^2}$$\n",
    "\n",
    "$$G_L = C_7^\\text{eff} + \\ldots, \\qquad G_L = C_7' + \\ldots $$\n",
    "\n",
    "$\\ldots$ refer to non-factorizable hadronic contributions - let's ignore them for simplicity"
   ]
  },
  {
   "cell_type": "markdown",
   "metadata": {
    "slideshow": {
     "slide_type": "subslide"
    }
   },
   "source": [
    "Writing a function that takes a `WilsonCoefficients` instance and a dictionary of parameter values as input"
   ]
  },
  {
   "cell_type": "code",
   "execution_count": null,
   "metadata": {
    "slideshow": {
     "slide_type": ""
    }
   },
   "outputs": [],
   "source": [
    "import flavio\n",
    "\n",
    "def ll_lgamma(wc_obj, par_dict):\n",
    "    scale = flavio.config['renormalization scale']['bvgamma']\n",
    "    wc_dict = flavio.physics.bdecays.wilsoncoefficients.wctot_dict(wc_obj, 'bsee', scale, par_dict)\n",
    "    delta_C7 = flavio.physics.bdecays.matrixelements.delta_C7(\n",
    "        par=par_dict, wc=wc_dict, q2=0, scale=scale, qiqj='bs')\n",
    "    a = {}\n",
    "    GL = abs(wc_dict['C7eff_bs'] + delta_C7)**2\n",
    "    GR = abs(wc_dict['C7effp_bs'])**2\n",
    "    return (GL**2 - GR**2) / (GL**2 + GR**2)"
   ]
  },
  {
   "cell_type": "markdown",
   "metadata": {
    "slideshow": {
     "slide_type": "subslide"
    }
   },
   "source": [
    "Defining the `Observable` and `Prediction` instances"
   ]
  },
  {
   "cell_type": "code",
   "execution_count": null,
   "metadata": {
    "slideshow": {
     "slide_type": ""
    }
   },
   "outputs": [],
   "source": [
    "obs = 'lambda_gamma'\n",
    "flavio.classes.Observable(obs)\n",
    "flavio.classes.Prediction(obs, ll_lgamma);"
   ]
  },
  {
   "cell_type": "code",
   "execution_count": null,
   "metadata": {},
   "outputs": [],
   "source": [
    "flavio.sm_prediction('lambda_gamma')"
   ]
  },
  {
   "cell_type": "code",
   "execution_count": null,
   "metadata": {},
   "outputs": [],
   "source": [
    "wc = flavio.WilsonCoefficients()\n",
    "wc.set_initial({'C7p_bs': 0.25}, 4.8)\n",
    "flavio.np_prediction('lambda_gamma', wc)"
   ]
  },
  {
   "cell_type": "markdown",
   "metadata": {
    "slideshow": {
     "slide_type": "slide"
    }
   },
   "source": [
    "## Adding a new parameter"
   ]
  },
  {
   "cell_type": "code",
   "execution_count": null,
   "metadata": {},
   "outputs": [],
   "source": [
    "flavio.classes.Parameter('my_fudge_factor')\n",
    "flavio.default_parameters.set_constraint('my_fudge_factor', '0 +- 0.2')"
   ]
  },
  {
   "cell_type": "code",
   "execution_count": null,
   "metadata": {},
   "outputs": [],
   "source": [
    "flavio.default_parameters.get_central('my_fudge_factor')"
   ]
  },
  {
   "cell_type": "code",
   "execution_count": null,
   "metadata": {},
   "outputs": [],
   "source": [
    "[flavio.default_parameters.get_random_all()['my_fudge_factor'] for i in range(5)]"
   ]
  },
  {
   "cell_type": "markdown",
   "metadata": {
    "slideshow": {
     "slide_type": "slide"
    }
   },
   "source": [
    "## Adding observables that depend on new operators\n",
    "\n",
    "In principle, any observable where NP enters via local operators can be added to flavio:\n",
    "\n",
    "- $D$ mixing & decays\n",
    "- Non-leptonic $B$ decays\n",
    "- Charged lepton flavour violation\n",
    "- $(g-2)_\\ell$\n",
    "- Electric dipole moments\n",
    "- Electroweak precision tests (via SMEFT)"
   ]
  },
  {
   "cell_type": "markdown",
   "metadata": {
    "slideshow": {
     "slide_type": "subslide"
    }
   },
   "source": [
    "### Extending the operator basis\n",
    "\n",
    "To extend the operator basis, the additional operators have to be define in the WCxf basis; See [wcxf.github.io](https://wcxf.github.io).\n",
    "\n",
    "One of the next release will also allow to define *observables* themselves in terms of other WCxf EFTs or bases (e.g. SMEFT)."
   ]
  },
  {
   "cell_type": "code",
   "execution_count": null,
   "metadata": {},
   "outputs": [],
   "source": []
  }
 ],
 "metadata": {
  "celltoolbar": "Slideshow",
  "kernelspec": {
   "display_name": "Python 3",
   "language": "python",
   "name": "python3"
  },
  "language_info": {
   "codemirror_mode": {
    "name": "ipython",
    "version": 3
   },
   "file_extension": ".py",
   "mimetype": "text/x-python",
   "name": "python",
   "nbconvert_exporter": "python",
   "pygments_lexer": "ipython3",
   "version": "3.6.3"
  },
  "livereveal": {
   "autolaunch": true,
   "maxScale": 1.5,
   "minScale": 0.2,
   "scroll": true
  }
 },
 "nbformat": 4,
 "nbformat_minor": 2
}
