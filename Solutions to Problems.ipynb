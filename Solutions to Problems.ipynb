{
 "cells": [
  {
   "cell_type": "code",
   "execution_count": null,
   "metadata": {},
   "outputs": [],
   "source": [
    "import flavio\n",
    "import flavio.plots as fpl\n",
    "import matplotlib.pyplot as plt\n",
    "%matplotlib inline\n",
    "%config InlineBackend.figure_format = 'svg'"
   ]
  },
  {
   "cell_type": "markdown",
   "metadata": {},
   "source": [
    "## $P_5'$: LHCb vs. SM"
   ]
  },
  {
   "cell_type": "markdown",
   "metadata": {},
   "source": [
    "Find all LHCb measurements of $P_5'$ (or do it manually by looking at measurements.yml)"
   ]
  },
  {
   "cell_type": "code",
   "execution_count": null,
   "metadata": {},
   "outputs": [],
   "source": [
    "meas = []\n",
    "for mname, mobj in flavio.Measurement.instances.items():\n",
    "    if mobj.experiment == 'LHCb':\n",
    "        for obs in mobj.all_parameters:\n",
    "            if isinstance(obs, tuple) and 'P5p' in obs[0]:\n",
    "                meas.append(mname)\n",
    "meas"
   ]
  },
  {
   "cell_type": "code",
   "execution_count": null,
   "metadata": {},
   "outputs": [],
   "source": [
    "obs = '<P5p>(B0->K*mumu)';\n",
    "\n",
    "_, bins = fpl.bin_plot_exp(obs, include_measurements=meas, col_dict={'LHCb': 'C0'});\n"
   ]
  },
  {
   "cell_type": "code",
   "execution_count": null,
   "metadata": {},
   "outputs": [],
   "source": [
    "bins"
   ]
  },
  {
   "cell_type": "markdown",
   "metadata": {},
   "source": [
    "Only some of those bins are reliable due to the presence of resonances"
   ]
  },
  {
   "cell_type": "code",
   "execution_count": null,
   "metadata": {},
   "outputs": [],
   "source": [
    "bins_th = [\n",
    " (0.1, 0.98),\n",
    " (1.1, 2.5),\n",
    " (2.5, 4),\n",
    " (4, 6),\n",
    " (15, 19)]"
   ]
  },
  {
   "cell_type": "code",
   "execution_count": null,
   "metadata": {},
   "outputs": [],
   "source": [
    "obs = '<P5p>(B0->K*mumu)';\n",
    "\n",
    "_, bins = fpl.bin_plot_exp(obs, include_measurements=meas, col_dict={'LHCb': 'C0'});\n",
    "\n",
    "fpl.bin_plot_th(obs, bins_th, threads=2)\n",
    "\n",
    "plt.legend()\n",
    "plt.xlabel(r'$q^2$ [GeV$^2$]')\n",
    "plt.ylabel(flavio.Observable[obs].tex);"
   ]
  },
  {
   "cell_type": "markdown",
   "metadata": {},
   "source": [
    "## $P_5'$: LHCb vs. NP"
   ]
  },
  {
   "cell_type": "code",
   "execution_count": null,
   "metadata": {},
   "outputs": [],
   "source": [
    "wc = flavio.WilsonCoefficients()\n",
    "wc.set_initial({'C9_bsmumu': -1.2}, 4.8)"
   ]
  },
  {
   "cell_type": "code",
   "execution_count": null,
   "metadata": {},
   "outputs": [],
   "source": [
    "obs = '<P5p>(B0->K*mumu)';\n",
    "\n",
    "_, bins = fpl.bin_plot_exp(obs, include_measurements=meas, col_dict={'LHCb': 'C0'});\n",
    "\n",
    "fpl.bin_plot_th(obs, bins_th, threads=2, label='SM')\n",
    "fpl.bin_plot_th(obs, bins_th, wc=wc, threads=2, fc='C1', alpha=0.2, label=r'$C_9=-1.2$')\n",
    "\n",
    "plt.legend()\n",
    "plt.xlabel(r'$q^2$ [GeV$^2$]')\n",
    "plt.ylabel(flavio.Observable[obs].tex);"
   ]
  },
  {
   "cell_type": "markdown",
   "metadata": {},
   "source": [
    "## Explaining flavour anomalies"
   ]
  },
  {
   "cell_type": "code",
   "execution_count": null,
   "metadata": {},
   "outputs": [],
   "source": [
    "def prediction_sm_np(wc_dict, scale, obs, *args, **kwargs):\n",
    "    wc = flavio.WilsonCoefficients()\n",
    "    wc.set_initial(wc_dict, scale)\n",
    "    sm = flavio.sm_prediction(obs, *args, **kwargs)\n",
    "    np = flavio.np_prediction(obs, wc, *args, **kwargs)\n",
    "    return sm, np"
   ]
  },
  {
   "cell_type": "code",
   "execution_count": null,
   "metadata": {},
   "outputs": [],
   "source": [
    "prediction_sm_np({'C9_bsmumu': -1.2}, 4.8, '<Rmue>(B+->Kll)', q2min=1, q2max=6)"
   ]
  },
  {
   "cell_type": "code",
   "execution_count": null,
   "metadata": {},
   "outputs": [],
   "source": [
    "prediction_sm_np({'C9_bsee': +1.2}, 4.8, '<Rmue>(B+->Kll)', q2min=1, q2max=6)"
   ]
  },
  {
   "cell_type": "code",
   "execution_count": null,
   "metadata": {},
   "outputs": [],
   "source": [
    "prediction_sm_np({'C9_bsmumu': -1.2}, 4.8, '<Rmue>(B0->K*ll)', q2min=1.1, q2max=6)"
   ]
  },
  {
   "cell_type": "code",
   "execution_count": null,
   "metadata": {},
   "outputs": [],
   "source": [
    "prediction_sm_np({'C9_bsee': +1.2}, 4.8, '<Rmue>(B0->K*ll)', q2min=1.1, q2max=6)"
   ]
  },
  {
   "cell_type": "code",
   "execution_count": null,
   "metadata": {},
   "outputs": [],
   "source": [
    "prediction_sm_np({'CVL_bctaunutau': 0.21}, 4.8, 'Rtaul(B->Dlnu)')"
   ]
  },
  {
   "cell_type": "code",
   "execution_count": null,
   "metadata": {},
   "outputs": [],
   "source": [
    "prediction_sm_np({'CVL_bctaunutau': 0.1}, 4.8, 'Rtaul(B->D*lnu)')"
   ]
  },
  {
   "cell_type": "markdown",
   "metadata": {},
   "source": [
    "A SMEFT scenario giving a pattern that could solve all anomalies:"
   ]
  },
  {
   "cell_type": "code",
   "execution_count": null,
   "metadata": {},
   "outputs": [],
   "source": [
    "import wcxf\n",
    "wcxf.WC('SMEFT', 'Warsaw', 160, {'lq3_3323': -1/2500**2, 'lq3_2223': +1/25000**2}).match('WET', 'flavio')"
   ]
  }
 ],
 "metadata": {
  "kernelspec": {
   "display_name": "Python 3",
   "language": "python",
   "name": "python3"
  },
  "language_info": {
   "codemirror_mode": {
    "name": "ipython",
    "version": 3
   },
   "file_extension": ".py",
   "mimetype": "text/x-python",
   "name": "python",
   "nbconvert_exporter": "python",
   "pygments_lexer": "ipython3",
   "version": "3.6.3"
  }
 },
 "nbformat": 4,
 "nbformat_minor": 2
}
