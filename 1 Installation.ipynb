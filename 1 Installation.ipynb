{
 "cells": [
  {
   "cell_type": "markdown",
   "metadata": {
    "slideshow": {
     "slide_type": "subslide"
    }
   },
   "source": [
    "\n",
    "<img style=\"float:left;margin-right:1em;width:5em;\" src=\"img/flavio.svg\">\n",
    "\n",
    "# flavio: a Python package for flavour phenomenology & more\n",
    "\n",
    "<div style=\"clear:left;\"></div>\n",
    "\n",
    "A tutorial  (by David M. Straub)\n",
    "\n",
    "- `flavio` docs: https://flav-io.github.io\n",
    "- `flavio` source: https://github.com/flav-io/flavio\n",
    "- This tutorial: https://github.com/DavidMStraub/flavio-tutorial"
   ]
  },
  {
   "cell_type": "markdown",
   "metadata": {
    "slideshow": {
     "slide_type": "subslide"
    }
   },
   "source": [
    "## Preliminary remarks\n",
    "\n",
    "- You can run this entire tutorial presentation with live code execution in your browser by navigating to <https://goo.gl/VMD3YD>\n",
    "- This is made possible by a number of great projects:\n",
    "    - [Jupyter](http://jupyter.org/)\n",
    "    - [Binder](https://mybinder.org/)\n",
    "    - [reaveal.js](https://revealjs.com/)\n",
    "    - [RISE](https://github.com/damianavila/RISE)"
   ]
  },
  {
   "cell_type": "markdown",
   "metadata": {
    "slideshow": {
     "slide_type": "subslide"
    }
   },
   "source": [
    "### Navigating the slides\n",
    "\n",
    "- <kbd>PgUp</kbd> or <kbd>Space</kbd>: next slide\n",
    "- <kbd>PgDn</kbd> or <kbd>Shift</kbd> + <kbd>Space</kbd>: previous slide\n",
    "- <kbd>w</kbd>: overview mode\n",
    "- <kbd>Shift</kbd> + <kbd>Enter</kbd>: execute cell\n",
    "- <kbd>Enter</kbd>: edit cell"
   ]
  },
  {
   "cell_type": "markdown",
   "metadata": {
    "collapsed": true,
    "slideshow": {
     "slide_type": "slide"
    }
   },
   "source": [
    "## flavio: what can it do for me?\n",
    "\n",
    "### 1. Predictions\n",
    "\n",
    "- Standard Model predictions (with uncertainties) for a huge number of observables in flavour physics\n",
    "- Predictions in the presence of new physics (parametrized as Wilson coefficient values)\n",
    "- interface to model-specific Wilson coefficient calculators"
   ]
  },
  {
   "cell_type": "markdown",
   "metadata": {
    "slideshow": {
     "slide_type": "subslide"
    }
   },
   "source": [
    "### 2. Fits\n",
    "\n",
    "- Fit parameters (e.g. CKM parameters) or Wilson  coefficients to existing experimental data\n",
    "- Bayesian or frequentist statistics\n",
    "- various fitters  & interfaces to external fitters"
   ]
  },
  {
   "cell_type": "markdown",
   "metadata": {
    "slideshow": {
     "slide_type": "subslide"
    }
   },
   "source": [
    "### 3. Plots\n",
    "\n",
    "- Visualize experimental measurements & theory predictions\n",
    "- Visualize your fit results"
   ]
  },
  {
   "cell_type": "markdown",
   "metadata": {
    "slideshow": {
     "slide_type": "slide"
    }
   },
   "source": [
    "## Showcase\n",
    "\n",
    "Frequentist & Bayesian fits of $V_{cb}$ in the SM ([arXiv:1801.01112](https://arxiv.org/abs/1801.01112))\n",
    "\n",
    "![](img/Vcb.svg)"
   ]
  },
  {
   "cell_type": "markdown",
   "metadata": {
    "slideshow": {
     "slide_type": "subslide"
    }
   },
   "source": [
    "New physics in $b\\to s\\ell^+\\ell^-$  ([arXiv:1703.09189](https://arxiv.org/abs/1703.09189))\n",
    "\n",
    "![](img/C9-C10_allExperiments.svg)"
   ]
  },
  {
   "cell_type": "markdown",
   "metadata": {
    "slideshow": {
     "slide_type": "subslide"
    }
   },
   "source": [
    "SM vs. NP in $B\\to D^*\\ell\\nu$ ([arXiv:1801.01112](https://arxiv.org/abs/1801.01112))\n",
    "\n",
    "![](img/CSL_q2.svg)"
   ]
  },
  {
   "cell_type": "markdown",
   "metadata": {
    "slideshow": {
     "slide_type": "subslide"
    }
   },
   "source": [
    "For more papers using flavio (not only by flavio developers!), see\n",
    "\n",
    "<https://flav-io.github.io/papers.html>"
   ]
  },
  {
   "cell_type": "markdown",
   "metadata": {
    "slideshow": {
     "slide_type": "slide"
    }
   },
   "source": [
    "## Ways of running flavio\n",
    "\n",
    "- interactively using Jupyter (or IPython)\n",
    "- as a script\n",
    "- on a supercomputer using parallelization (multithreading, MPI)\n",
    "- as a library in your own Python code"
   ]
  },
  {
   "cell_type": "markdown",
   "metadata": {
    "slideshow": {
     "slide_type": "slide"
    }
   },
   "source": [
    "## Installing flavio\n",
    "\n",
    "### Setting up Python\n",
    "\n",
    "To install flavio, you need Python 3.5 or above as well as pip\n",
    "\n",
    "(press Shift + Enter to execute this cell):"
   ]
  },
  {
   "cell_type": "code",
   "execution_count": null,
   "metadata": {
    "slideshow": {
     "slide_type": "fragment"
    }
   },
   "outputs": [],
   "source": [
    "! python3 --version\n",
    "! pip3 --version"
   ]
  },
  {
   "cell_type": "markdown",
   "metadata": {
    "slideshow": {
     "slide_type": "fragment"
    }
   },
   "source": [
    "All set? If not, more options below"
   ]
  },
  {
   "cell_type": "markdown",
   "metadata": {
    "slideshow": {
     "slide_type": "subslide"
    }
   },
   "source": [
    "### I don't have Python yet\n",
    "\n",
    "- Ubuntu 16.04 or newer:\n",
    "\n",
    "```bash\n",
    "sudo apt install python3 python3-pip```\n",
    "\n",
    "- MaC OS:\n",
    "\n",
    "```bash\n",
    "brew install python3```\n",
    "\n",
    "NB: this will not interfere with your Python 2.7 installation!"
   ]
  },
  {
   "cell_type": "markdown",
   "metadata": {
    "slideshow": {
     "slide_type": "subslide"
    }
   },
   "source": [
    "### I use Windows\n",
    "\n",
    "or \n",
    "\n",
    "### I use an ancient Linux with Python 3.(x<5)\n",
    "\n",
    "&rarr; Use Anaconda/Miniconda"
   ]
  },
  {
   "cell_type": "markdown",
   "metadata": {
    "slideshow": {
     "slide_type": "subslide"
    }
   },
   "source": [
    "### Using Miniconda\n",
    "\n",
    "- Anaconda is a Python distribution with its own package manager (`conda`)\n",
    "- It works on Linux, Mac OS, and Windows\n",
    "- Miniconda is the minimal version just installing Python, `conda`, and `pip`\n",
    "- Download the installer from <https://conda.io/miniconda.html>"
   ]
  },
  {
   "cell_type": "markdown",
   "metadata": {
    "slideshow": {
     "slide_type": "slide"
    }
   },
   "source": [
    "## Installing the flavio package\n",
    "\n",
    "This is now as simple as:\n",
    "\n",
    "```bash\n",
    "pip3 install flavio --user\n",
    "```\n",
    "\n",
    "To upgrade to a new version, use\n",
    "\n",
    "```bash\n",
    "pip3 install flavio --user --upgrade\n",
    "```"
   ]
  },
  {
   "cell_type": "code",
   "execution_count": null,
   "metadata": {
    "slideshow": {
     "slide_type": "fragment"
    }
   },
   "outputs": [],
   "source": [
    "import flavio\n",
    "flavio.__version__"
   ]
  },
  {
   "cell_type": "markdown",
   "metadata": {
    "slideshow": {
     "slide_type": "subslide"
    }
   },
   "source": [
    "### Installing extras\n",
    "\n",
    "Some additional features of flavio have dependencies that are not installed by default. You can install all of them with\n",
    "\n",
    "```bash\n",
    "pip3 install flavio[plotting,testing,sampling]\n",
    "```\n",
    "\n",
    "Note that `sampling` installs packages that require `cython` and `numpy` to be installed first."
   ]
  },
  {
   "cell_type": "markdown",
   "metadata": {
    "slideshow": {
     "slide_type": "subslide"
    }
   },
   "source": [
    "### Tests\n",
    "\n",
    "If you want to tests whether all features of flavio work on your system, you can run all of the unit tests of the package:"
   ]
  },
  {
   "cell_type": "code",
   "execution_count": null,
   "metadata": {
    "slideshow": {
     "slide_type": ""
    }
   },
   "outputs": [],
   "source": [
    "! nosetests flavio"
   ]
  },
  {
   "cell_type": "markdown",
   "metadata": {
    "slideshow": {
     "slide_type": ""
    }
   },
   "source": [
    "Unit tests play an important role in making the code as reliable as possible and making development easier "
   ]
  },
  {
   "cell_type": "markdown",
   "metadata": {
    "slideshow": {
     "slide_type": "slide"
    }
   },
   "source": [
    "### Installing Jupyter & IPython\n",
    "\n",
    "```bash\n",
    "pip3 install jupyter --user\n",
    "```\n",
    "\n",
    "... and the run it:\n",
    "\n",
    "```bash\n",
    "jupyter notebook\n",
    "```\n",
    "or if you prefer an interactive terminal session:\n",
    "```bash\n",
    "ipython3\n",
    "```\n"
   ]
  },
  {
   "cell_type": "markdown",
   "metadata": {
    "slideshow": {
     "slide_type": "slide"
    }
   },
   "source": [
    "### Getting help\n",
    "\n",
    "- An introductory documentation can be found at <https://flav-io.github.io/docs/>\n",
    "- Detailed documentation of all functions and classes at <https://flav-io.github.io/apidoc/flavio/>\n",
    "- Jupyter/IPython: use auto-completion and `?`"
   ]
  },
  {
   "cell_type": "markdown",
   "metadata": {
    "slideshow": {
     "slide_type": "slide"
    }
   },
   "source": [
    "### Outline\n",
    "\n",
    "1. Motivation and Installation\n",
    "2. [Basic concepts](2 Basic concepts.ipynb) (observables, predictions, parameters, measurements)\n",
    "3. [Wilson coefficients](3 Wilson coefficients.ipynb) (physics beyond the Standard Model)\n",
    "4. [Fits](4 Fits.ipynb) (statistical inference)\n",
    "5. [Extending flavio](5 Extending.ipynb) (adding new observables)"
   ]
  },
  {
   "cell_type": "code",
   "execution_count": null,
   "metadata": {
    "slideshow": {
     "slide_type": "slide"
    }
   },
   "outputs": [],
   "source": []
  }
 ],
 "metadata": {
  "celltoolbar": "Slideshow",
  "kernelspec": {
   "display_name": "Python 3",
   "language": "python",
   "name": "python3"
  },
  "language_info": {
   "codemirror_mode": {
    "name": "ipython",
    "version": 3
   },
   "file_extension": ".py",
   "mimetype": "text/x-python",
   "name": "python",
   "nbconvert_exporter": "python",
   "pygments_lexer": "ipython3",
   "version": "3.6.3"
  },
  "livereveal": {
   "autolaunch": true,
   "scroll": true
  }
 },
 "nbformat": 4,
 "nbformat_minor": 2
}
