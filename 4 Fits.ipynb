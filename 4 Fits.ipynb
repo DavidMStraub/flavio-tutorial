{
 "cells": [
  {
   "cell_type": "code",
   "execution_count": null,
   "metadata": {
    "slideshow": {
     "slide_type": "skip"
    }
   },
   "outputs": [],
   "source": [
    "import flavio\n",
    "import flavio.plots\n",
    "import wcxf\n",
    "import numpy as np\n",
    "%matplotlib inline\n",
    "%config InlineBackend.figure_format = 'svg'"
   ]
  },
  {
   "cell_type": "markdown",
   "metadata": {
    "slideshow": {
     "slide_type": "slide"
    }
   },
   "source": [
    "# flavio tutorial\n",
    "\n",
    "## Part 4: Fits"
   ]
  },
  {
   "cell_type": "markdown",
   "metadata": {
    "slideshow": {
     "slide_type": "slide"
    }
   },
   "source": [
    "## \"Fits\" in flavio\n",
    "\n",
    "A fit is defined as a selection of *measurements* and *observables* providing a likelihood in the space of a selection of *parameters* or *Wilson coefficients*\n",
    "\n",
    "Examples:\n",
    "\n",
    "- Fit the Wilson coefficient $C_9^{bs\\mu\\mu}$ from the LHCb measurement of $R_K$\n",
    "- Fit the CKM element $V_{cb}$ from $B$ factory measurements of $\\text{BR}(B\\to D\\ell\\nu)$"
   ]
  },
  {
   "cell_type": "markdown",
   "metadata": {
    "slideshow": {
     "slide_type": "subslide"
    }
   },
   "source": [
    "### Ingredients for a fit\n",
    "\n",
    "- a list of observables for which measurements exist\n",
    "- a list of parameters or Wilson coefficients to be fitted\n",
    "- a set of constraints on the parameters (such as `flavio.default_parameters`) summarizing our prior knowledge"
   ]
  },
  {
   "cell_type": "markdown",
   "metadata": {
    "slideshow": {
     "slide_type": "slide"
    }
   },
   "source": [
    "## Statistical inference: the likelihood\n",
    "\n",
    "- Observables $x$, Measurements $x_i^\\text{exp}$, Predictions $x^\\text{th}$, Parameters $\\theta$\n",
    "\n",
    "$$\\mathcal L_\\text{exp}(\\vec\\theta)=\\prod_{i=1}^N f_i\\!\\left(x_i^\\text{exp}, x^\\text{th}_i(\\vec\\theta)\\right)$$\n",
    "\n",
    "Challenge: we are only interested in some of the $\\theta_j$ (\"fit parameters\") but must take into account the uncertainties induced be the others (\"nuisance parameters\")"
   ]
  },
  {
   "cell_type": "markdown",
   "metadata": {
    "slideshow": {
     "slide_type": "subslide"
    }
   },
   "source": [
    "Three statistical approaches to this problem implemented in flavio:\n",
    "\n",
    "#### \"Fast fit\"\n",
    "\n",
    "convolve the experimental uncertainties with the theoretical ones to construct a likelihood that only depends on fit parameters\n",
    "\n",
    "$$\\mathcal L =e^{-\\chi^2(\\vec\\xi)/2},\n",
    "\\qquad\\chi^2(\\vec\\xi)=\\vec\\Delta^T C^{-1}(\\vec\\xi=\\hat{\\vec\\xi}) \\vec\\Delta$$\n",
    "$$\\Delta_i = (x_i^\\text{exp}- x^\\text{th}_i(\\vec\\theta),\n",
    "\\qquad C(\\vec\\xi)=C_\\text{exp}+C_\\text{th}(\\vec\\xi)$$"
   ]
  },
  {
   "cell_type": "markdown",
   "metadata": {
    "slideshow": {
     "slide_type": "subslide"
    }
   },
   "source": [
    "#### Bayesian fit\n",
    "\n",
    "treat the uncertainties on nuisance parameters as prior probabilities and use Bayes' theorem to *marginalize* over them (multi-dimensional integration requiring tools like Markov Chain Monte Carlo)\n",
    "\n",
    "\n",
    "$$P(\\vec\\theta) \\propto \\mathcal L_\\text{exp}(\\vec\\theta)\\pi(\\vec\\theta)$$\n",
    "\n",
    "$$P(\\vec\\xi)=\\int d\\vec\\nu ~ P(\\vec\\xi,\\vec\\nu)$$"
   ]
  },
  {
   "cell_type": "markdown",
   "metadata": {
    "slideshow": {
     "slide_type": "subslide"
    }
   },
   "source": [
    "#### Frequentist fit\n",
    "\n",
    "treat the uncertainties on nuisance parameters as pseudo measurements and *profile* over them, i.e. optimizing the likelihood in nuisance parameter space for each point in fit parameter space\n",
    "\n",
    "$$\\mathcal L_\\text{tot}(\\vec\\theta) = \\mathcal L_\\text{exp}(\\vec\\theta) \\mathcal L_\\text{nuis}(\\vec\\nu)$$\n",
    "\n",
    "$$\\mathcal L_\\text{p}(\\vec\\xi) = \\mathcal L_\\text{tot}(\\vec\\xi, \\hat{\\hat{\\vec\\nu}})$$"
   ]
  },
  {
   "cell_type": "markdown",
   "metadata": {
    "slideshow": {
     "slide_type": "slide"
    }
   },
   "source": [
    "### Choosing the fit type: advantages & disadvantages\n"
   ]
  },
  {
   "cell_type": "markdown",
   "metadata": {
    "slideshow": {
     "slide_type": "subslide"
    }
   },
   "source": [
    "### Fast fit\n",
    "\n",
    "Assumptions & advantages:\n",
    "- (!) experimental uncertainties approximated as Gaussian\n",
    "- (!) theory uncertainties approximated as Gaussian\n",
    "- (!) uncertainties weakly dependent on nuisances and NP\n",
    "- (+) Computing time does not depend on number of nuisance parameters\n",
    "- (+) Computation of covariances (expensive) does not depend on exp. data"
   ]
  },
  {
   "cell_type": "markdown",
   "metadata": {
    "slideshow": {
     "slide_type": "subslide"
    }
   },
   "source": [
    "### Bayesian fit\n",
    "\n",
    "- (-) Need to perform MCMC with at least $O(100\\,\\text{k})$ steps (evaluations of the likelihood)\n",
    "- (+) No distinction between nuisance and fit parameters: can obtain posterior for all of them"
   ]
  },
  {
   "cell_type": "markdown",
   "metadata": {
    "slideshow": {
     "slide_type": "subslide"
    }
   },
   "source": [
    "### Frequentist fit\n",
    "\n",
    "- (-) Optimization on grid in fit parameter space limits number of fit parameters to 1 or 2 in practice\n",
    "- (+) Not subject to statistical fluctuations from random sampling\n",
    "- (+) Faster than Bayesian MCMC for 1 or 2 fit parameters"
   ]
  },
  {
   "cell_type": "markdown",
   "metadata": {
    "slideshow": {
     "slide_type": "slide"
    }
   },
   "source": [
    "## Setting up a \"Fast Fit\"\n",
    "\n",
    "Example: $V_{cb}$ from $\\text{BR}(B^+\\to D^0\\ell\\nu)$, $\\ell=e$ or $\\mu$\n",
    "\n",
    "First try:"
   ]
  },
  {
   "cell_type": "code",
   "execution_count": null,
   "metadata": {},
   "outputs": [],
   "source": [
    "from flavio.statistics import fits\n",
    "fit = fits.FastFit(name=\"My First Fast Fit\",\n",
    "                   fit_parameters=['Vcb'],\n",
    "                   observables=['BR(B+->Denu)', 'BR(B+->Dmunu)'])"
   ]
  },
  {
   "cell_type": "markdown",
   "metadata": {
    "slideshow": {
     "slide_type": "subslide"
    }
   },
   "source": [
    "Let's have a look at the Prior likelihood for `Vcb`"
   ]
  },
  {
   "cell_type": "code",
   "execution_count": null,
   "metadata": {},
   "outputs": [],
   "source": [
    "import numpy as np\n",
    "\n",
    "x = np.linspace(0.03, 0.05, 500)\n",
    "y = [fit.log_prior_parameters([X]) for X in x]\n",
    "\n",
    "flavio.plots.likelihood_plot(x, np.exp(y))"
   ]
  },
  {
   "cell_type": "markdown",
   "metadata": {
    "slideshow": {
     "slide_type": "subslide"
    }
   },
   "source": [
    "What went wrong?\n",
    "\n",
    "The fast fit takes the priors for nuisance *and* fit parameters from a `ParameterConstraints` instance - by default, `flavio.default_parmeters`, which also contains a constraint on $V_{cb}$.\n",
    "\n",
    "Solution: replace by a \"flat\" prior (range)"
   ]
  },
  {
   "cell_type": "code",
   "execution_count": null,
   "metadata": {
    "slideshow": {
     "slide_type": ""
    }
   },
   "outputs": [],
   "source": [
    "my_parameters = flavio.default_parameters.copy()\n",
    "my_parameters.set_constraint('Vcb', '[0.03, 0.05]')\n",
    "\n",
    "fit = fits.FastFit(name=\"My First Fast Fit\",\n",
    "                   par_obj=my_parameters,\n",
    "                   fit_parameters=['Vcb'],\n",
    "                   observables=['BR(B+->Denu)', 'BR(B+->Dmunu)'])"
   ]
  },
  {
   "cell_type": "code",
   "execution_count": null,
   "metadata": {
    "slideshow": {
     "slide_type": "subslide"
    }
   },
   "outputs": [],
   "source": [
    "x = np.linspace(0.025, 0.055, 100)\n",
    "y = [fit.log_prior_parameters([X]) for X in x]\n",
    "\n",
    "flavio.plots.likelihood_plot(x, np.exp(y))"
   ]
  },
  {
   "cell_type": "markdown",
   "metadata": {
    "slideshow": {
     "slide_type": "fragment"
    }
   },
   "source": [
    "Better!"
   ]
  },
  {
   "cell_type": "markdown",
   "metadata": {
    "slideshow": {
     "slide_type": "subslide"
    }
   },
   "source": [
    "### A word of caution\n",
    "\n",
    "This is a general pitfall: some constraints on parameters actually come from measurements of observables that are present in flavio as well"
   ]
  },
  {
   "cell_type": "markdown",
   "metadata": {
    "slideshow": {
     "slide_type": "subslide"
    }
   },
   "source": [
    "### Computing the covariance\n",
    "\n",
    "To compute the covariance of the \"pseudo measurement\" with combined experimental and theoretical uncertainties, need to call:"
   ]
  },
  {
   "cell_type": "code",
   "execution_count": null,
   "metadata": {},
   "outputs": [],
   "source": [
    "%time fit.make_measurement(N=100, force=True)  # force recomputation for demo"
   ]
  },
  {
   "cell_type": "markdown",
   "metadata": {
    "slideshow": {
     "slide_type": "fragment"
    }
   },
   "source": [
    "Advanced: increase precision, use parallelization"
   ]
  },
  {
   "cell_type": "code",
   "execution_count": null,
   "metadata": {},
   "outputs": [],
   "source": [
    "%time fit.make_measurement(N=1000, threads=2, force=True)"
   ]
  },
  {
   "cell_type": "markdown",
   "metadata": {
    "slideshow": {
     "slide_type": "subslide"
    }
   },
   "source": [
    "We're done: evaluate the likelihood, which only depends on `Vcb`"
   ]
  },
  {
   "cell_type": "code",
   "execution_count": null,
   "metadata": {},
   "outputs": [],
   "source": [
    "x = np.linspace(0.03, 0.05, 100)\n",
    "y = [fit.log_likelihood([X]) for X in x]\n",
    "\n",
    "flavio.plots.likelihood_plot(x, np.exp(y))"
   ]
  },
  {
   "cell_type": "markdown",
   "metadata": {
    "slideshow": {
     "slide_type": "subslide"
    }
   },
   "source": [
    "Best-fit value for $V_{cb}$:"
   ]
  },
  {
   "cell_type": "code",
   "execution_count": null,
   "metadata": {},
   "outputs": [],
   "source": [
    "bf = fit.best_fit()\n",
    "bf"
   ]
  },
  {
   "cell_type": "markdown",
   "metadata": {
    "slideshow": {
     "slide_type": "subslide"
    }
   },
   "source": [
    "Determining uncertainties: numerically solve for $\\Delta \\chi^2=1$"
   ]
  },
  {
   "cell_type": "code",
   "execution_count": null,
   "metadata": {},
   "outputs": [],
   "source": [
    "from scipy.optimize import brentq\n",
    "\n",
    "err_l = brentq(lambda x: -2*fit.log_likelihood([x]) - 1, a=0.03, b=bf['x'])\n",
    "err_r = brentq(lambda x: -2*fit.log_likelihood([x]) - 1, a=bf['x'], b=0.05)\n",
    "\n",
    "err_l, err_r"
   ]
  },
  {
   "cell_type": "markdown",
   "metadata": {
    "slideshow": {
     "slide_type": "fragment"
    }
   },
   "source": [
    "Final result: $V_{cb} = ( 3.75 ^{+0.04}_{-0.03} ) \\times 10^{-2}$"
   ]
  },
  {
   "cell_type": "markdown",
   "metadata": {
    "slideshow": {
     "slide_type": "slide"
    }
   },
   "source": [
    "### Example: $C_7$ and $C_{10}$ from $B\\to X_s\\gamma$ and $B_s\\to\\mu^+\\mu^-$\n",
    "\n",
    "\n",
    "Fitting Wilson coefficients: since quantities to be fitted must be real but WCs are complex, must always define a WC *function*, e.g."
   ]
  },
  {
   "cell_type": "code",
   "execution_count": null,
   "metadata": {},
   "outputs": [],
   "source": [
    "def fct_C7_C10(Re_C7, Re_C10):\n",
    "    return {'C10_bsmumu': Re_C10, 'C7_bs': Re_C7}"
   ]
  },
  {
   "cell_type": "markdown",
   "metadata": {},
   "source": [
    "Output must be in a form suitable for feeding it to `WilsonCoefficients.set_initial`."
   ]
  },
  {
   "cell_type": "markdown",
   "metadata": {
    "slideshow": {
     "slide_type": "subslide"
    }
   },
   "source": [
    "Defining the fit"
   ]
  },
  {
   "cell_type": "code",
   "execution_count": null,
   "metadata": {},
   "outputs": [],
   "source": [
    "fit = fits.FastFit(name='My C7-C10 fast fit',\n",
    "                   observables=['BR(B->Xsgamma)', 'BR(Bs->mumu)', 'BR(B0->mumu)'],\n",
    "                   fit_wc_function=fct_C7_C10,\n",
    "                   input_scale=4.8)"
   ]
  },
  {
   "cell_type": "markdown",
   "metadata": {},
   "source": [
    "NB: `BR(B0->mumu)` is not sensitive to these coefficients but must be added since the measurements are correlated. Try running the command without it!"
   ]
  },
  {
   "cell_type": "markdown",
   "metadata": {
    "slideshow": {
     "slide_type": "subslide"
    }
   },
   "source": [
    "Generate the pseudo measurement"
   ]
  },
  {
   "cell_type": "code",
   "execution_count": null,
   "metadata": {},
   "outputs": [],
   "source": [
    "%time fit.make_measurement(N=100, threads=2, force=True)"
   ]
  },
  {
   "cell_type": "markdown",
   "metadata": {
    "slideshow": {
     "slide_type": "subslide"
    }
   },
   "source": [
    "Get best-fit values"
   ]
  },
  {
   "cell_type": "code",
   "execution_count": null,
   "metadata": {},
   "outputs": [],
   "source": [
    "fit.best_fit()"
   ]
  },
  {
   "cell_type": "code",
   "execution_count": null,
   "metadata": {},
   "outputs": [],
   "source": [
    "fit.fit_parameters, fit.fit_wc_names"
   ]
  },
  {
   "cell_type": "markdown",
   "metadata": {
    "slideshow": {
     "slide_type": "slide"
    }
   },
   "source": [
    "## 2D likelihood plots"
   ]
  },
  {
   "cell_type": "code",
   "execution_count": null,
   "metadata": {},
   "outputs": [],
   "source": [
    "import flavio.plots as fpl\n",
    "import matplotlib.pyplot as plt"
   ]
  },
  {
   "cell_type": "code",
   "execution_count": null,
   "metadata": {},
   "outputs": [],
   "source": [
    "%%time\n",
    "cdat = fpl.likelihood_contour_data(fit.log_likelihood,\n",
    "                                   x_min=-0.07, x_max=0.07, y_min=-2, y_max=2,\n",
    "                                   n_sigma=(1, 2, 3),\n",
    "                                   threads=2,\n",
    "                                   steps=20)"
   ]
  },
  {
   "cell_type": "code",
   "execution_count": null,
   "metadata": {
    "slideshow": {
     "slide_type": "subslide"
    }
   },
   "outputs": [],
   "source": [
    "fpl.contour(**cdat)\n",
    "plt.xlabel(r'Re $C_7$');\n",
    "plt.ylabel(r'Re $C_{10}$');"
   ]
  },
  {
   "cell_type": "markdown",
   "metadata": {
    "slideshow": {
     "slide_type": "subslide"
    }
   },
   "source": [
    "This can be made more smooth by increasing `steps` or using interpolation (but be careful...)"
   ]
  },
  {
   "cell_type": "code",
   "execution_count": null,
   "metadata": {},
   "outputs": [],
   "source": [
    "fpl.contour(**cdat, interpolation_factor=3)\n",
    "plt.xlabel(r'Re $C_7$');\n",
    "plt.ylabel(r'Re $C_{10}$');"
   ]
  },
  {
   "cell_type": "markdown",
   "metadata": {
    "slideshow": {
     "slide_type": "slide"
    }
   },
   "source": [
    "## Bayesian fit\n",
    "\n",
    "The definition is analogous to the Fast Fit. But we now need to explicitly specify the nuisance parameters we want to be varied (since we now pay computing time for each of them!)"
   ]
  },
  {
   "cell_type": "markdown",
   "metadata": {
    "slideshow": {
     "slide_type": "subslide"
    }
   },
   "source": [
    "### Finding out which parameters to vary\n",
    "\n",
    "A useful hint (but not always sufficient!) can be to look at the parameters the SM prediction depends on:"
   ]
  },
  {
   "cell_type": "code",
   "execution_count": null,
   "metadata": {},
   "outputs": [],
   "source": [
    "flavio.functions.get_dependent_parameters_sm('BR(Bs->mumu)')"
   ]
  },
  {
   "cell_type": "markdown",
   "metadata": {
    "slideshow": {
     "slide_type": "subslide"
    }
   },
   "source": [
    "For now, let's use"
   ]
  },
  {
   "cell_type": "code",
   "execution_count": null,
   "metadata": {},
   "outputs": [],
   "source": [
    "nuisance_parameters = ['Vcb', 'delta_BXsgamma', 'm_t', 'f_Bs']"
   ]
  },
  {
   "cell_type": "markdown",
   "metadata": {
    "slideshow": {
     "slide_type": "subslide"
    }
   },
   "source": [
    "### Additional complication\n",
    "\n",
    "- even if we usually want to treat our Wilson coefficients as unconstrained (i.e. flat priors), we need to provide some initial ranges for the samplers to generate reasonable starting values"
   ]
  },
  {
   "cell_type": "code",
   "execution_count": null,
   "metadata": {},
   "outputs": [],
   "source": [
    "star_wc_priors = flavio.classes.WilsonCoefficientPriors()\n",
    "star_wc_priors.set_constraint('Re_C7', '[-0.2, 0.2]')\n",
    "star_wc_priors.set_constraint('Re_C10', '[-4, 4]')"
   ]
  },
  {
   "cell_type": "markdown",
   "metadata": {
    "slideshow": {
     "slide_type": "subslide"
    }
   },
   "source": [
    "Define the fit instance"
   ]
  },
  {
   "cell_type": "code",
   "execution_count": null,
   "metadata": {
    "slideshow": {
     "slide_type": ""
    }
   },
   "outputs": [],
   "source": [
    "fit = fits.BayesianFit(name='My C7-C10 Bayesian fit',\n",
    "                       observables=['BR(B->Xsgamma)', 'BR(Bs->mumu)', 'BR(B0->mumu)'],\n",
    "                       nuisance_parameters=nuisance_parameters,\n",
    "                       fit_wc_function=fct_C7_C10,\n",
    "                       input_scale=4.8,\n",
    "                       start_wc_priors=star_wc_priors)"
   ]
  },
  {
   "cell_type": "markdown",
   "metadata": {
    "slideshow": {
     "slide_type": "subslide"
    }
   },
   "source": [
    "### Marginalizing over the nuisance parameters"
   ]
  },
  {
   "cell_type": "markdown",
   "metadata": {},
   "source": [
    "The `flavio.statistics.fitters` module contains interfaces to 2 MCMC samplers: `pypmc` and `emcee`.\n",
    "\n",
    "Let's use the latter, with default settings"
   ]
  },
  {
   "cell_type": "code",
   "execution_count": null,
   "metadata": {},
   "outputs": [],
   "source": [
    "from flavio.statistics.fitters.emcee import emceeScan\n",
    "\n",
    "scan = emceeScan(fit)"
   ]
  },
  {
   "cell_type": "code",
   "execution_count": null,
   "metadata": {
    "slideshow": {
     "slide_type": "slide"
    }
   },
   "outputs": [],
   "source": [
    "%time scan.run(steps=50, burnin=50)"
   ]
  },
  {
   "cell_type": "code",
   "execution_count": null,
   "metadata": {},
   "outputs": [],
   "source": [
    "scan.result.shape"
   ]
  },
  {
   "cell_type": "markdown",
   "metadata": {},
   "source": [
    "NB, this result does not make any sense as we need much more statistics to get a reliable answer!"
   ]
  },
  {
   "cell_type": "markdown",
   "metadata": {
    "slideshow": {
     "slide_type": "subslide"
    }
   },
   "source": [
    "Plotting the result"
   ]
  },
  {
   "cell_type": "markdown",
   "metadata": {
    "slideshow": {
     "slide_type": "slide"
    }
   },
   "source": [
    "## Frequentist fits\n",
    "\n",
    "Again we need to specify the nuisance parameters; we can use the same as in the Bayesian fit"
   ]
  },
  {
   "cell_type": "code",
   "execution_count": null,
   "metadata": {},
   "outputs": [],
   "source": [
    "fit = fits.FrequentistFit(name='My C7-C10 frequentist fit',\n",
    "                          observables=['BR(B->Xsgamma)', 'BR(Bs->mumu)', 'BR(B0->mumu)'],\n",
    "                          nuisance_parameters=nuisance_parameters,\n",
    "                          fit_wc_function=fct_C7_C10,\n",
    "                          input_scale=4.8)"
   ]
  },
  {
   "cell_type": "markdown",
   "metadata": {
    "slideshow": {
     "slide_type": "subslide"
    }
   },
   "source": [
    "### Likelihood profiling\n",
    "\n",
    "In contrast to the Bayesian case, we are now limited to 1-2 fit parameters or Wilson coefficients. The likelihood profiling has to be performed on a grid"
   ]
  },
  {
   "cell_type": "code",
   "execution_count": null,
   "metadata": {},
   "outputs": [],
   "source": [
    "from flavio.statistics.fitters.profiler import Profiler2D\n",
    "\n",
    "prof = Profiler2D(fit, x_min=-0.07, x_max=0.07, y_min=-2, y_max=2)"
   ]
  },
  {
   "cell_type": "code",
   "execution_count": null,
   "metadata": {},
   "outputs": [],
   "source": [
    "%time prof.run(steps=(10, 10), usebf=True);"
   ]
  },
  {
   "cell_type": "code",
   "execution_count": null,
   "metadata": {
    "slideshow": {
     "slide_type": "slide"
    }
   },
   "outputs": [],
   "source": [
    "pdat = prof.contour_plotdata(n_sigma=(1, 2, 3))\n",
    "fpl.contour(**pdat, interpolation_factor=3)\n",
    "plt.xlabel(r'Re $C_7$');\n",
    "plt.ylabel(r'Re $C_{10}$');"
   ]
  },
  {
   "cell_type": "markdown",
   "metadata": {
    "slideshow": {
     "slide_type": "slide"
    }
   },
   "source": [
    "## Problem:\n",
    "\n",
    "Reproduce the fits of $V_{cb}$ from global fits to $B\\to D\\ell\\nu$ and $B\\to D^*\\ell\\nu$ in eqs. (7)-(9), (12)-(14) of [arXiv:1801.01112](https://arxiv.org/pdf/1801.01112.pdf), as well as figure 1.\n",
    "\n",
    "The list of observables and nuisance is provided in the file `vcbfits.py`"
   ]
  },
  {
   "cell_type": "markdown",
   "metadata": {},
   "source": [
    "Next: [Extending flavio](5 Extending.ipynb)"
   ]
  },
  {
   "cell_type": "code",
   "execution_count": null,
   "metadata": {},
   "outputs": [],
   "source": []
  }
 ],
 "metadata": {
  "celltoolbar": "Slideshow",
  "kernelspec": {
   "display_name": "Python 3",
   "language": "python",
   "name": "python3"
  },
  "language_info": {
   "codemirror_mode": {
    "name": "ipython",
    "version": 3
   },
   "file_extension": ".py",
   "mimetype": "text/x-python",
   "name": "python",
   "nbconvert_exporter": "python",
   "pygments_lexer": "ipython3",
   "version": "3.6.3"
  },
  "livereveal": {
   "autolaunch": true,
   "scroll": true
  }
 },
 "nbformat": 4,
 "nbformat_minor": 2
}
